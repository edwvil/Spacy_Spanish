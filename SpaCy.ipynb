{
 "cells": [
  {
   "cell_type": "markdown",
   "metadata": {},
   "source": [
    "# Como usar SpaCy en Español"
   ]
  },
  {
   "cell_type": "markdown",
   "metadata": {},
   "source": [
    "Inicalmente se instala según las indicaciones dadas en https://spacy.io/"
   ]
  },
  {
   "cell_type": "code",
   "execution_count": 1,
   "metadata": {},
   "outputs": [],
   "source": [
    "import spacy"
   ]
  },
  {
   "cell_type": "markdown",
   "metadata": {},
   "source": [
    "Se descargan los dos modelos de SpaCy en español"
   ]
  },
  {
   "cell_type": "code",
   "execution_count": null,
   "metadata": {},
   "outputs": [],
   "source": [
    "#!python -m spacy download es_core_news_md"
   ]
  },
  {
   "cell_type": "code",
   "execution_count": null,
   "metadata": {},
   "outputs": [],
   "source": [
    "#!python -m spacy download es_core_news_sm"
   ]
  },
  {
   "cell_type": "markdown",
   "metadata": {},
   "source": [
    "Se crea una instancia con el modelo"
   ]
  },
  {
   "cell_type": "code",
   "execution_count": 2,
   "metadata": {},
   "outputs": [],
   "source": [
    "nlp = spacy.load('es_core_news_md')"
   ]
  },
  {
   "cell_type": "markdown",
   "metadata": {},
   "source": [
    "## Tokenization"
   ]
  },
  {
   "cell_type": "code",
   "execution_count": 17,
   "metadata": {},
   "outputs": [
    {
     "name": "stdout",
     "output_type": "stream",
     "text": [
      "\"Hola\"\n",
      "\"Mundo\"\n",
      "\"!\"\n"
     ]
    }
   ],
   "source": [
    "texto = nlp('Hola Mundo!')\n",
    "for token in  texto:\n",
    "    print('\"{}\"'.format(token))"
   ]
  },
  {
   "cell_type": "markdown",
   "metadata": {},
   "source": [
    "Se puede obtener el string del token directamente o a través de su atributo text"
   ]
  },
  {
   "cell_type": "code",
   "execution_count": 15,
   "metadata": {},
   "outputs": [
    {
     "name": "stdout",
     "output_type": "stream",
     "text": [
      "\"Hola\"\n",
      "\"Mundo\"\n",
      "\"!\"\n"
     ]
    }
   ],
   "source": [
    "texto = nlp('Hola Mundo!')\n",
    "for token in  texto:\n",
    "    print('\"{}\"'.format(token.text))"
   ]
  },
  {
   "cell_type": "markdown",
   "metadata": {},
   "source": [
    "Con el atributo idx se puede obtener la posicion inicial del token en el texto original"
   ]
  },
  {
   "cell_type": "code",
   "execution_count": 19,
   "metadata": {},
   "outputs": [
    {
     "name": "stdout",
     "output_type": "stream",
     "text": [
      "El token es\"Hola\" y su posición inicial es 0\n",
      "El token es\"Mundo\" y su posición inicial es 5\n",
      "El token es\"!\" y su posición inicial es 10\n"
     ]
    }
   ],
   "source": [
    "texto = nlp('Hola Mundo!')\n",
    "for token in  texto:\n",
    "    print('El token es\"{}\" y su posición inicial es {}'.format(token.text, token.idx))"
   ]
  },
  {
   "cell_type": "markdown",
   "metadata": {},
   "source": [
    "cada token tiene otros atributos como:\n",
    "<ol>\n",
    "<li>text:  valor del string</li>\n",
    "<li>idx:  posición</li>\n",
    "<li>is_punt: Boolean para determinar si es un signo de puntuación</li>\n",
    "<li>is_space: Boolean para determinar si es un espacio en blanco (adicional al normal)</li>\n",
    "<li>shape: Caracteristicas de mayuscula, minuscula</li>\n",
    "<li>pos: part of speech</li>\n",
    "<li>tag:</li>\n",
    "</ol>"
   ]
  },
  {
   "cell_type": "code",
   "execution_count": 34,
   "metadata": {},
   "outputs": [
    {
     "name": "stdout",
     "output_type": "stream",
     "text": [
      "-Token: Esta\n",
      "-Posición: 0\n",
      "-puntuación: False\n",
      "-espacio: False\n",
      "-forma: Xxxx\n",
      "-POS: PRON\n",
      "-tag: PRON__Gender=Fem|Number=Sing|PronType=Dem\n",
      "\n",
      "-Token: es\n",
      "-Posición: 5\n",
      "-puntuación: False\n",
      "-espacio: False\n",
      "-forma: xx\n",
      "-POS: AUX\n",
      "-tag: AUX__Mood=Ind|Number=Sing|Person=3|Tense=Pres|VerbForm=Fin\n",
      "\n",
      "-Token: una\n",
      "-Posición: 8\n",
      "-puntuación: False\n",
      "-espacio: False\n",
      "-forma: xxx\n",
      "-POS: DET\n",
      "-tag: DET__Definite=Ind|Gender=Fem|Number=Sing|PronType=Art\n",
      "\n",
      "-Token: prueba\n",
      "-Posición: 12\n",
      "-puntuación: False\n",
      "-espacio: False\n",
      "-forma: xxxx\n",
      "-POS: NOUN\n",
      "-tag: NOUN__Gender=Fem|Number=Sing\n",
      "\n",
      "-Token: de\n",
      "-Posición: 19\n",
      "-puntuación: False\n",
      "-espacio: False\n",
      "-forma: xx\n",
      "-POS: ADP\n",
      "-tag: ADP__AdpType=Prep\n",
      "\n",
      "-Token: SpaCy\n",
      "-Posición: 22\n",
      "-puntuación: False\n",
      "-espacio: False\n",
      "-forma: XxxXx\n",
      "-POS: NOUN\n",
      "-tag: NOUN__Gender=Masc|Number=Sing\n",
      "\n",
      "-Token: hecha\n",
      "-Posición: 28\n",
      "-puntuación: False\n",
      "-espacio: False\n",
      "-forma: xxxx\n",
      "-POS: ADJ\n",
      "-tag: ADJ__Gender=Fem|Number=Sing|VerbForm=Part\n",
      "\n",
      "-Token: en\n",
      "-Posición: 34\n",
      "-puntuación: False\n",
      "-espacio: False\n",
      "-forma: xx\n",
      "-POS: ADP\n",
      "-tag: ADP__AdpType=Prep\n",
      "\n",
      "-Token:  \n",
      "-Posición: 37\n",
      "-puntuación: False\n",
      "-espacio: True\n",
      "-forma:  \n",
      "-POS: SPACE\n",
      "-tag: \n",
      "\n",
      "-Token: español\n",
      "-Posición: 38\n",
      "-puntuación: False\n",
      "-espacio: False\n",
      "-forma: xxxx\n",
      "-POS: ADJ\n",
      "-tag: ADJ__Gender=Masc|Number=Sing\n",
      "\n",
      "-Token: por\n",
      "-Posición: 46\n",
      "-puntuación: False\n",
      "-espacio: False\n",
      "-forma: xxx\n",
      "-POS: ADP\n",
      "-tag: ADP__AdpType=Prep\n",
      "\n",
      "-Token: Edwin\n",
      "-Posición: 50\n",
      "-puntuación: False\n",
      "-espacio: False\n",
      "-forma: Xxxxx\n",
      "-POS: PROPN\n",
      "-tag: PROPN___\n",
      "\n",
      "-Token: Villarraga\n",
      "-Posición: 56\n",
      "-puntuación: False\n",
      "-espacio: False\n",
      "-forma: Xxxxx\n",
      "-POS: PROPN\n",
      "-tag: PROPN___\n",
      "\n",
      "-Token: !\n",
      "-Posición: 66\n",
      "-puntuación: True\n",
      "-espacio: False\n",
      "-forma: !\n",
      "-POS: PUNCT\n",
      "-tag: PUNCT__PunctSide=Fin|PunctType=Excl\n",
      "\n",
      "-Token: !\n",
      "-Posición: 67\n",
      "-puntuación: True\n",
      "-espacio: False\n",
      "-forma: !\n",
      "-POS: PUNCT\n",
      "-tag: PUNCT__PunctSide=Fin|PunctType=Excl\n",
      "\n"
     ]
    }
   ],
   "source": [
    "texto = nlp(\"Esta es una prueba de SpaCy hecha en  español por Edwin Villarraga!!\")\n",
    "for token in texto:\n",
    "    print('-Token: {}\\n-Posición: {}\\n-puntuación: {}\\n-espacio: {}\\n-forma: {}\\n-POS: {}\\n-tag: {}\\n'.format(\n",
    "    token.text,\n",
    "    token.idx,   \n",
    "    token.is_punct,\n",
    "    token.is_space,\n",
    "    token.shape_,\n",
    "    token.pos_,\n",
    "    token.tag_\n",
    "    ))"
   ]
  },
  {
   "cell_type": "markdown",
   "metadata": {},
   "source": [
    "## Dividir en Frases (Sentences)"
   ]
  },
  {
   "cell_type": "code",
   "execution_count": 36,
   "metadata": {},
   "outputs": [],
   "source": [
    "texto = nlp(\"Xiaomi empezó izando el estandarte de los precios casi imbatibles para sus smartphones de gama alta y, aunque con salvedades, sigue manteniéndolos en una línea que queda bastante por debajo que los de otros fabricantes con móviles de una misma línea. Y en esa estrategia está el subdividir su línea Mi para democratizarla e introducir móviles de gama media puramente, y esa apuesta la ponemos a prueba de nuevo en el análisis del Xiaomi Mi 9 SE.\")"
   ]
  },
  {
   "cell_type": "code",
   "execution_count": 47,
   "metadata": {},
   "outputs": [
    {
     "name": "stdout",
     "output_type": "stream",
     "text": [
      "Sentence 0:  Xiaomi empezó izando el estandarte de los precios casi imbatibles para sus smartphones de gama alta y, aunque con salvedades, sigue manteniéndolos en una línea que queda bastante por debajo que los de otros fabricantes con móviles de una misma línea.\n",
      "Sentence 1:  Y en esa estrategia está el subdividir su línea Mi para democratizarla e introducir móviles de gama media puramente, y esa apuesta la ponemos a prueba de nuevo en el análisis del Xiaomi Mi 9 SE.\n"
     ]
    }
   ],
   "source": [
    "i=0\n",
    "for frase in texto.sents:\n",
    "    print (\"Sentence {}:  {}\".format(i,frase))\n",
    "    i+=1"
   ]
  },
  {
   "cell_type": "markdown",
   "metadata": {},
   "source": [
    "## POS - Part of Speech Tagging"
   ]
  },
  {
   "cell_type": "code",
   "execution_count": 51,
   "metadata": {},
   "outputs": [
    {
     "name": "stdout",
     "output_type": "stream",
     "text": [
      "[('La', 'DET'), ('siguiente', 'ADJ'), ('semana', 'NOUN'), ('viajaré', 'VERB'), ('a', 'ADP'), ('Colombia', 'PROPN')]\n"
     ]
    }
   ],
   "source": [
    "texto = nlp(\"La siguiente semana viajaré a Colombia\")\n",
    "print([(token.text, token.pos_) for token in texto])"
   ]
  },
  {
   "cell_type": "markdown",
   "metadata": {},
   "source": [
    "## NER - Name Entity Recognition"
   ]
  },
  {
   "cell_type": "code",
   "execution_count": 53,
   "metadata": {},
   "outputs": [
    {
     "name": "stdout",
     "output_type": "stream",
     "text": [
      "Luis PER\n",
      "Colombia LOC\n"
     ]
    }
   ],
   "source": [
    "texto = nlp(\"La siguiente semana Luis viajará a Colombia\")\n",
    "for ent in texto.ents:\n",
    "    print(ent.text, ent.label_)"
   ]
  },
  {
   "cell_type": "markdown",
   "metadata": {},
   "source": [
    "El siguiente es el listado de entidades que utiliza SpaCy"
   ]
  },
  {
   "cell_type": "raw",
   "metadata": {},
   "source": [
    "TYPE\tDESCRIPTION\n",
    "PERSON\tPeople, including fictional.\n",
    "NORP\tNationalities or religious or political groups.\n",
    "FAC\tBuildings, airports, highways, bridges, etc.\n",
    "ORG\tCompanies, agencies, institutions, etc.\n",
    "GPE\tCountries, cities, states.\n",
    "LOC\tNon-GPE locations, mountain ranges, bodies of water.\n",
    "PRODUCT\tObjects, vehicles, foods, etc. (Not services.)\n",
    "EVENT\tNamed hurricanes, battles, wars, sports events, etc.\n",
    "WORK_OF_ART\tTitles of books, songs, etc.\n",
    "LAW\tNamed documents made into laws.\n",
    "LANGUAGE\tAny named language.\n",
    "DATE\tAbsolute or relative dates or periods.\n",
    "TIME\tTimes smaller than a day.\n",
    "PERCENT\tPercentage, including ”%“.\n",
    "MONEY\tMonetary values, including unit.\n",
    "QUANTITY\tMeasurements, as of weight or distance.\n",
    "ORDINAL\t“first”, “second”, etc.\n",
    "CARDINAL\tNumerals that do not fall under another type."
   ]
  },
  {
   "cell_type": "code",
   "execution_count": 69,
   "metadata": {},
   "outputs": [
    {
     "name": "stdout",
     "output_type": "stream",
     "text": [
      "David Quintero PER\n",
      "Corte Suprema de Justicia LOC\n"
     ]
    }
   ],
   "source": [
    "texto = nlp(u\"El juez David Quintero, a las 10 a.m., en la Corte Suprema de Justicia, ordenó la captura con un 95% de probabilidad, y se ejecutó el siguiente día\")\n",
    "for ent in texto.ents:\n",
    "    print(ent.text, ent.label_)"
   ]
  },
  {
   "cell_type": "code",
   "execution_count": 70,
   "metadata": {},
   "outputs": [
    {
     "name": "stdout",
     "output_type": "stream",
     "text": [
      "[('El', 'DET'), ('juez', 'NOUN'), ('David', 'PROPN'), ('Quintero', 'PROPN'), (',', 'PUNCT'), ('a', 'ADP'), ('las', 'DET'), ('10', 'NUM'), ('a.m', 'ADJ'), ('.', 'PUNCT'), (',', 'PUNCT'), ('en', 'ADP'), ('la', 'DET'), ('Corte', 'PROPN'), ('Suprema', 'PROPN'), ('de', 'ADP'), ('Justicia', 'PROPN'), (',', 'PUNCT'), ('ordenó', 'VERB'), ('la', 'DET'), ('captura', 'NOUN'), ('con', 'ADP'), ('un', 'DET'), ('95', 'NUM'), ('%', 'SYM'), ('de', 'ADP'), ('probabilidad', 'NOUN'), (',', 'PUNCT'), ('y', 'CONJ'), ('se', 'PRON'), ('ejecutó', 'VERB'), ('el', 'DET'), ('siguiente', 'ADJ'), ('día', 'NOUN')]\n"
     ]
    }
   ],
   "source": [
    "print([(token.text, token.pos_) for token in texto])"
   ]
  },
  {
   "cell_type": "markdown",
   "metadata": {},
   "source": [
    "En ingles los modelos son más robustos y permitiría identificar las horas, fechas, porcentajes..."
   ]
  },
  {
   "cell_type": "markdown",
   "metadata": {},
   "source": [
    "Con el uso del displacy se puede tener una mejor visualización de las entidades reconocidas"
   ]
  },
  {
   "cell_type": "code",
   "execution_count": 71,
   "metadata": {},
   "outputs": [
    {
     "data": {
      "text/html": [
       "<div class=\"entities\" style=\"line-height: 2.5\">El juez \n",
       "<mark class=\"entity\" style=\"background: #ddd; padding: 0.45em 0.6em; margin: 0 0.25em; line-height: 1; border-radius: 0.35em; box-decoration-break: clone; -webkit-box-decoration-break: clone\">\n",
       "    David Quintero\n",
       "    <span style=\"font-size: 0.8em; font-weight: bold; line-height: 1; border-radius: 0.35em; text-transform: uppercase; vertical-align: middle; margin-left: 0.5rem\">PER</span>\n",
       "</mark>\n",
       ", a las 10 a.m., en la \n",
       "<mark class=\"entity\" style=\"background: #ff9561; padding: 0.45em 0.6em; margin: 0 0.25em; line-height: 1; border-radius: 0.35em; box-decoration-break: clone; -webkit-box-decoration-break: clone\">\n",
       "    Corte Suprema de Justicia\n",
       "    <span style=\"font-size: 0.8em; font-weight: bold; line-height: 1; border-radius: 0.35em; text-transform: uppercase; vertical-align: middle; margin-left: 0.5rem\">LOC</span>\n",
       "</mark>\n",
       ", ordenó la captura con un 95% de probabilidad, y se ejecutó el siguiente día</div>"
      ],
      "text/plain": [
       "<IPython.core.display.HTML object>"
      ]
     },
     "metadata": {},
     "output_type": "display_data"
    }
   ],
   "source": [
    "from spacy import displacy\n",
    "\n",
    "displacy.render(texto, style='ent', jupyter=True)"
   ]
  },
  {
   "cell_type": "markdown",
   "metadata": {},
   "source": [
    "## Chunking"
   ]
  },
  {
   "cell_type": "markdown",
   "metadata": {},
   "source": [
    "Detecta automaticamente noun-phrases"
   ]
  },
  {
   "cell_type": "code",
   "execution_count": 88,
   "metadata": {},
   "outputs": [
    {
     "name": "stdout",
     "output_type": "stream",
     "text": [
      "El Periodico  -  NP  -  Periodico\n",
      "un interesante artículo  -  NP  -  artículo\n",
      "la construcción  -  NP  -  construcción\n",
      "Medellín  -  NP  -  Medellín\n"
     ]
    }
   ],
   "source": [
    "texto = nlp(u'El Periodico acaba de publicar un interesante artículo sobre la construcción en Medellín' )\n",
    "for chunk in texto.noun_chunks:\n",
    "    print(chunk.text,\" - \", chunk.label_,\" - \", chunk.root.text)"
   ]
  },
  {
   "cell_type": "markdown",
   "metadata": {},
   "source": [
    "## Dependency Parsing"
   ]
  },
  {
   "cell_type": "code",
   "execution_count": 85,
   "metadata": {},
   "outputs": [
    {
     "name": "stdout",
     "output_type": "stream",
     "text": [
      "El/DET__Definite=Def|Gender=Masc|Number=Sing|PronType=Art <--det-- Periodico/PROPN___\n",
      "Periodico/PROPN___ <--nsubj-- publicar/VERB__VerbForm=Inf\n",
      "acaba/AUX__Mood=Ind|Number=Sing|Person=3|Tense=Pres|VerbForm=Fin <--aux-- publicar/VERB__VerbForm=Inf\n",
      "de/ADP__AdpType=Prep <--mark-- publicar/VERB__VerbForm=Inf\n",
      "publicar/VERB__VerbForm=Inf <--ROOT-- publicar/VERB__VerbForm=Inf\n",
      "un/DET__Definite=Ind|Gender=Masc|Number=Sing|PronType=Art <--det-- artículo/NOUN__Gender=Masc|Number=Sing\n",
      "interesante/ADJ__Number=Sing <--amod-- artículo/NOUN__Gender=Masc|Number=Sing\n",
      "artículo/NOUN__Gender=Masc|Number=Sing <--obj-- publicar/VERB__VerbForm=Inf\n",
      "sobre/ADP__AdpType=Prep <--case-- construcción/NOUN__Gender=Fem|Number=Sing\n",
      "la/DET__Definite=Def|Gender=Fem|Number=Sing|PronType=Art <--det-- construcción/NOUN__Gender=Fem|Number=Sing\n",
      "construcción/NOUN__Gender=Fem|Number=Sing <--nmod-- artículo/NOUN__Gender=Masc|Number=Sing\n",
      "en/ADP__AdpType=Prep <--case-- Medellín/PROPN___\n",
      "Medellín/PROPN___ <--nmod-- construcción/NOUN__Gender=Fem|Number=Sing\n"
     ]
    }
   ],
   "source": [
    "texto = nlp('El Periodico acaba de publicar un interesante artículo sobre la construcción en Medellín')\n",
    " \n",
    "for token in texto:\n",
    "    print(\"{0}/{1} <--{2}-- {3}/{4}\".format(token.text, \n",
    "        token.tag_, \n",
    "        token.dep_,\n",
    "        token.head.text, \n",
    "        token.head.tag_))"
   ]
  },
  {
   "cell_type": "markdown",
   "metadata": {},
   "source": [
    "## Lemmatization"
   ]
  },
  {
   "cell_type": "code",
   "execution_count": 3,
   "metadata": {},
   "outputs": [],
   "source": [
    "texto = \"El Periodico acaba de publicar un interesante artículo sobre la construcción en Medellín\""
   ]
  },
  {
   "cell_type": "code",
   "execution_count": 10,
   "metadata": {},
   "outputs": [
    {
     "name": "stdout",
     "output_type": "stream",
     "text": [
      "TOKEN: El -------->\t\t-LEMA: El\t\t-POS: DET\n",
      "TOKEN: Periodico -------->\t\t-LEMA: Periodico\t\t-POS: PROPN\n",
      "TOKEN: acaba -------->\t\t-LEMA: acabar\t\t-POS: AUX\n",
      "TOKEN: de -------->\t\t-LEMA: de\t\t-POS: ADP\n",
      "TOKEN: publicar -------->\t\t-LEMA: publicar\t\t-POS: VERB\n",
      "TOKEN: un -------->\t\t-LEMA: uno\t\t-POS: DET\n",
      "TOKEN: interesante -------->\t\t-LEMA: interesante\t\t-POS: ADJ\n",
      "TOKEN: artículo -------->\t\t-LEMA: artículo\t\t-POS: NOUN\n",
      "TOKEN: sobre -------->\t\t-LEMA: sobrar\t\t-POS: ADP\n",
      "TOKEN: la -------->\t\t-LEMA: lo\t\t-POS: DET\n",
      "TOKEN: construcción -------->\t\t-LEMA: construcción\t\t-POS: NOUN\n",
      "TOKEN: en -------->\t\t-LEMA: en\t\t-POS: ADP\n",
      "TOKEN: Medellín -------->\t\t-LEMA: Medellín\t\t-POS: PROPN\n"
     ]
    }
   ],
   "source": [
    "for token in nlp(texto):\n",
    "    print(\"TOKEN: {} -------->\\t\\t-LEMA: {}\\t\\t-POS: {}\".format(token.text, token.lemma_, token.pos_))"
   ]
  },
  {
   "cell_type": "code",
   "execution_count": null,
   "metadata": {},
   "outputs": [],
   "source": []
  }
 ],
 "metadata": {
  "kernelspec": {
   "display_name": "Python 3",
   "language": "python",
   "name": "python3"
  },
  "language_info": {
   "codemirror_mode": {
    "name": "ipython",
    "version": 3
   },
   "file_extension": ".py",
   "mimetype": "text/x-python",
   "name": "python",
   "nbconvert_exporter": "python",
   "pygments_lexer": "ipython3",
   "version": "3.6.6"
  }
 },
 "nbformat": 4,
 "nbformat_minor": 2
}
